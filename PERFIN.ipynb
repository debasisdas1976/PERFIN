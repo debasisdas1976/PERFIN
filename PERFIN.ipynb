{
  "cells": [
    {
      "cell_type": "markdown",
      "metadata": {
        "id": "view-in-github",
        "colab_type": "text"
      },
      "source": [
        "<a href=\"https://colab.research.google.com/github/debasisdas1976/PERFIN/blob/main/PERFIN.ipynb\" target=\"_parent\"><img src=\"https://colab.research.google.com/assets/colab-badge.svg\" alt=\"Open In Colab\"/></a>"
      ]
    },
    {
      "cell_type": "markdown",
      "metadata": {
        "id": "wh6ggRqJD4o5"
      },
      "source": [
        "#Personal Finance"
      ]
    },
    {
      "cell_type": "code",
      "execution_count": 7,
      "metadata": {
        "id": "JPsekSugD4o7"
      },
      "outputs": [],
      "source": [
        "import pandas as pd\n",
        "import matplotlib as mplot\n",
        "import matplotlib.pyplot as plt\n",
        "import seaborn as sn\n",
        "from pathlib import Path"
      ]
    },
    {
      "cell_type": "markdown",
      "metadata": {
        "id": "XQsTJtOND4o7"
      },
      "source": [
        "### Check the library versions"
      ]
    },
    {
      "cell_type": "markdown",
      "metadata": {
        "id": "yNZD-t69D4o8"
      },
      "source": [
        "### Load CSV Data"
      ]
    },
    {
      "cell_type": "markdown",
      "metadata": {
        "id": "6yyktyzWD4o8"
      },
      "source": [
        "- Read different kinds of data formats\n",
        "\n",
        "https://pandas.pydata.org/docs/user_guide/io.html"
      ]
    },
    {
      "cell_type": "code",
      "execution_count": 17,
      "metadata": {
        "id": "OOw7bsWbD4o8",
        "colab": {
          "base_uri": "https://localhost:8080/",
          "height": 356
        },
        "outputId": "a00f9cc1-e900-4ec3-d848-d3cbdf7dfe23"
      },
      "outputs": [
        {
          "output_type": "error",
          "ename": "HTTPError",
          "evalue": "ignored",
          "traceback": [
            "\u001b[0;31m---------------------------------------------------------------------------\u001b[0m",
            "\u001b[0;31mHTTPError\u001b[0m                                 Traceback (most recent call last)",
            "\u001b[0;32m<ipython-input-17-ed4335d49b9c>\u001b[0m in \u001b[0;36m<cell line: 5>\u001b[0;34m()\u001b[0m\n\u001b[1;32m      3\u001b[0m \u001b[0mfile_extension\u001b[0m \u001b[0;34m=\u001b[0m \u001b[0mfile_path\u001b[0m\u001b[0;34m.\u001b[0m\u001b[0msuffix\u001b[0m\u001b[0;34m.\u001b[0m\u001b[0mlower\u001b[0m\u001b[0;34m(\u001b[0m\u001b[0;34m)\u001b[0m\u001b[0;34m[\u001b[0m\u001b[0;36m1\u001b[0m\u001b[0;34m:\u001b[0m\u001b[0;34m]\u001b[0m\u001b[0;34m\u001b[0m\u001b[0;34m\u001b[0m\u001b[0m\n\u001b[1;32m      4\u001b[0m \u001b[0;34m\u001b[0m\u001b[0m\n\u001b[0;32m----> 5\u001b[0;31m \u001b[0mmy_df\u001b[0m \u001b[0;34m=\u001b[0m \u001b[0mpd\u001b[0m\u001b[0;34m.\u001b[0m\u001b[0mread_csv\u001b[0m\u001b[0;34m(\u001b[0m\u001b[0mfilename\u001b[0m\u001b[0;34m)\u001b[0m\u001b[0;34m\u001b[0m\u001b[0;34m\u001b[0m\u001b[0m\n\u001b[0m",
            "\u001b[0;32m/usr/local/lib/python3.10/dist-packages/pandas/util/_decorators.py\u001b[0m in \u001b[0;36mwrapper\u001b[0;34m(*args, **kwargs)\u001b[0m\n\u001b[1;32m    209\u001b[0m                 \u001b[0;32melse\u001b[0m\u001b[0;34m:\u001b[0m\u001b[0;34m\u001b[0m\u001b[0;34m\u001b[0m\u001b[0m\n\u001b[1;32m    210\u001b[0m                     \u001b[0mkwargs\u001b[0m\u001b[0;34m[\u001b[0m\u001b[0mnew_arg_name\u001b[0m\u001b[0;34m]\u001b[0m \u001b[0;34m=\u001b[0m \u001b[0mnew_arg_value\u001b[0m\u001b[0;34m\u001b[0m\u001b[0;34m\u001b[0m\u001b[0m\n\u001b[0;32m--> 211\u001b[0;31m             \u001b[0;32mreturn\u001b[0m \u001b[0mfunc\u001b[0m\u001b[0;34m(\u001b[0m\u001b[0;34m*\u001b[0m\u001b[0margs\u001b[0m\u001b[0;34m,\u001b[0m \u001b[0;34m**\u001b[0m\u001b[0mkwargs\u001b[0m\u001b[0;34m)\u001b[0m\u001b[0;34m\u001b[0m\u001b[0;34m\u001b[0m\u001b[0m\n\u001b[0m\u001b[1;32m    212\u001b[0m \u001b[0;34m\u001b[0m\u001b[0m\n\u001b[1;32m    213\u001b[0m         \u001b[0;32mreturn\u001b[0m \u001b[0mcast\u001b[0m\u001b[0;34m(\u001b[0m\u001b[0mF\u001b[0m\u001b[0;34m,\u001b[0m \u001b[0mwrapper\u001b[0m\u001b[0;34m)\u001b[0m\u001b[0;34m\u001b[0m\u001b[0;34m\u001b[0m\u001b[0m\n",
            "\u001b[0;32m/usr/local/lib/python3.10/dist-packages/pandas/util/_decorators.py\u001b[0m in \u001b[0;36mwrapper\u001b[0;34m(*args, **kwargs)\u001b[0m\n\u001b[1;32m    329\u001b[0m                     \u001b[0mstacklevel\u001b[0m\u001b[0;34m=\u001b[0m\u001b[0mfind_stack_level\u001b[0m\u001b[0;34m(\u001b[0m\u001b[0;34m)\u001b[0m\u001b[0;34m,\u001b[0m\u001b[0;34m\u001b[0m\u001b[0;34m\u001b[0m\u001b[0m\n\u001b[1;32m    330\u001b[0m                 )\n\u001b[0;32m--> 331\u001b[0;31m             \u001b[0;32mreturn\u001b[0m \u001b[0mfunc\u001b[0m\u001b[0;34m(\u001b[0m\u001b[0;34m*\u001b[0m\u001b[0margs\u001b[0m\u001b[0;34m,\u001b[0m \u001b[0;34m**\u001b[0m\u001b[0mkwargs\u001b[0m\u001b[0;34m)\u001b[0m\u001b[0;34m\u001b[0m\u001b[0;34m\u001b[0m\u001b[0m\n\u001b[0m\u001b[1;32m    332\u001b[0m \u001b[0;34m\u001b[0m\u001b[0m\n\u001b[1;32m    333\u001b[0m         \u001b[0;31m# error: \"Callable[[VarArg(Any), KwArg(Any)], Any]\" has no\u001b[0m\u001b[0;34m\u001b[0m\u001b[0;34m\u001b[0m\u001b[0m\n",
            "\u001b[0;32m/usr/local/lib/python3.10/dist-packages/pandas/io/parsers/readers.py\u001b[0m in \u001b[0;36mread_csv\u001b[0;34m(filepath_or_buffer, sep, delimiter, header, names, index_col, usecols, squeeze, prefix, mangle_dupe_cols, dtype, engine, converters, true_values, false_values, skipinitialspace, skiprows, skipfooter, nrows, na_values, keep_default_na, na_filter, verbose, skip_blank_lines, parse_dates, infer_datetime_format, keep_date_col, date_parser, dayfirst, cache_dates, iterator, chunksize, compression, thousands, decimal, lineterminator, quotechar, quoting, doublequote, escapechar, comment, encoding, encoding_errors, dialect, error_bad_lines, warn_bad_lines, on_bad_lines, delim_whitespace, low_memory, memory_map, float_precision, storage_options)\u001b[0m\n\u001b[1;32m    948\u001b[0m     \u001b[0mkwds\u001b[0m\u001b[0;34m.\u001b[0m\u001b[0mupdate\u001b[0m\u001b[0;34m(\u001b[0m\u001b[0mkwds_defaults\u001b[0m\u001b[0;34m)\u001b[0m\u001b[0;34m\u001b[0m\u001b[0;34m\u001b[0m\u001b[0m\n\u001b[1;32m    949\u001b[0m \u001b[0;34m\u001b[0m\u001b[0m\n\u001b[0;32m--> 950\u001b[0;31m     \u001b[0;32mreturn\u001b[0m \u001b[0m_read\u001b[0m\u001b[0;34m(\u001b[0m\u001b[0mfilepath_or_buffer\u001b[0m\u001b[0;34m,\u001b[0m \u001b[0mkwds\u001b[0m\u001b[0;34m)\u001b[0m\u001b[0;34m\u001b[0m\u001b[0;34m\u001b[0m\u001b[0m\n\u001b[0m\u001b[1;32m    951\u001b[0m \u001b[0;34m\u001b[0m\u001b[0m\n\u001b[1;32m    952\u001b[0m \u001b[0;34m\u001b[0m\u001b[0m\n",
            "\u001b[0;32m/usr/local/lib/python3.10/dist-packages/pandas/io/parsers/readers.py\u001b[0m in \u001b[0;36m_read\u001b[0;34m(filepath_or_buffer, kwds)\u001b[0m\n\u001b[1;32m    603\u001b[0m \u001b[0;34m\u001b[0m\u001b[0m\n\u001b[1;32m    604\u001b[0m     \u001b[0;31m# Create the parser.\u001b[0m\u001b[0;34m\u001b[0m\u001b[0;34m\u001b[0m\u001b[0m\n\u001b[0;32m--> 605\u001b[0;31m     \u001b[0mparser\u001b[0m \u001b[0;34m=\u001b[0m \u001b[0mTextFileReader\u001b[0m\u001b[0;34m(\u001b[0m\u001b[0mfilepath_or_buffer\u001b[0m\u001b[0;34m,\u001b[0m \u001b[0;34m**\u001b[0m\u001b[0mkwds\u001b[0m\u001b[0;34m)\u001b[0m\u001b[0;34m\u001b[0m\u001b[0;34m\u001b[0m\u001b[0m\n\u001b[0m\u001b[1;32m    606\u001b[0m \u001b[0;34m\u001b[0m\u001b[0m\n\u001b[1;32m    607\u001b[0m     \u001b[0;32mif\u001b[0m \u001b[0mchunksize\u001b[0m \u001b[0;32mor\u001b[0m \u001b[0miterator\u001b[0m\u001b[0;34m:\u001b[0m\u001b[0;34m\u001b[0m\u001b[0;34m\u001b[0m\u001b[0m\n",
            "\u001b[0;32m/usr/local/lib/python3.10/dist-packages/pandas/io/parsers/readers.py\u001b[0m in \u001b[0;36m__init__\u001b[0;34m(self, f, engine, **kwds)\u001b[0m\n\u001b[1;32m   1440\u001b[0m \u001b[0;34m\u001b[0m\u001b[0m\n\u001b[1;32m   1441\u001b[0m         \u001b[0mself\u001b[0m\u001b[0;34m.\u001b[0m\u001b[0mhandles\u001b[0m\u001b[0;34m:\u001b[0m \u001b[0mIOHandles\u001b[0m \u001b[0;34m|\u001b[0m \u001b[0;32mNone\u001b[0m \u001b[0;34m=\u001b[0m \u001b[0;32mNone\u001b[0m\u001b[0;34m\u001b[0m\u001b[0;34m\u001b[0m\u001b[0m\n\u001b[0;32m-> 1442\u001b[0;31m         \u001b[0mself\u001b[0m\u001b[0;34m.\u001b[0m\u001b[0m_engine\u001b[0m \u001b[0;34m=\u001b[0m \u001b[0mself\u001b[0m\u001b[0;34m.\u001b[0m\u001b[0m_make_engine\u001b[0m\u001b[0;34m(\u001b[0m\u001b[0mf\u001b[0m\u001b[0;34m,\u001b[0m \u001b[0mself\u001b[0m\u001b[0;34m.\u001b[0m\u001b[0mengine\u001b[0m\u001b[0;34m)\u001b[0m\u001b[0;34m\u001b[0m\u001b[0;34m\u001b[0m\u001b[0m\n\u001b[0m\u001b[1;32m   1443\u001b[0m \u001b[0;34m\u001b[0m\u001b[0m\n\u001b[1;32m   1444\u001b[0m     \u001b[0;32mdef\u001b[0m \u001b[0mclose\u001b[0m\u001b[0;34m(\u001b[0m\u001b[0mself\u001b[0m\u001b[0;34m)\u001b[0m \u001b[0;34m->\u001b[0m \u001b[0;32mNone\u001b[0m\u001b[0;34m:\u001b[0m\u001b[0;34m\u001b[0m\u001b[0;34m\u001b[0m\u001b[0m\n",
            "\u001b[0;32m/usr/local/lib/python3.10/dist-packages/pandas/io/parsers/readers.py\u001b[0m in \u001b[0;36m_make_engine\u001b[0;34m(self, f, engine)\u001b[0m\n\u001b[1;32m   1733\u001b[0m                 \u001b[0;32mif\u001b[0m \u001b[0;34m\"b\"\u001b[0m \u001b[0;32mnot\u001b[0m \u001b[0;32min\u001b[0m \u001b[0mmode\u001b[0m\u001b[0;34m:\u001b[0m\u001b[0;34m\u001b[0m\u001b[0;34m\u001b[0m\u001b[0m\n\u001b[1;32m   1734\u001b[0m                     \u001b[0mmode\u001b[0m \u001b[0;34m+=\u001b[0m \u001b[0;34m\"b\"\u001b[0m\u001b[0;34m\u001b[0m\u001b[0;34m\u001b[0m\u001b[0m\n\u001b[0;32m-> 1735\u001b[0;31m             self.handles = get_handle(\n\u001b[0m\u001b[1;32m   1736\u001b[0m                 \u001b[0mf\u001b[0m\u001b[0;34m,\u001b[0m\u001b[0;34m\u001b[0m\u001b[0;34m\u001b[0m\u001b[0m\n\u001b[1;32m   1737\u001b[0m                 \u001b[0mmode\u001b[0m\u001b[0;34m,\u001b[0m\u001b[0;34m\u001b[0m\u001b[0;34m\u001b[0m\u001b[0m\n",
            "\u001b[0;32m/usr/local/lib/python3.10/dist-packages/pandas/io/common.py\u001b[0m in \u001b[0;36mget_handle\u001b[0;34m(path_or_buf, mode, encoding, compression, memory_map, is_text, errors, storage_options)\u001b[0m\n\u001b[1;32m    711\u001b[0m \u001b[0;34m\u001b[0m\u001b[0m\n\u001b[1;32m    712\u001b[0m     \u001b[0;31m# open URLs\u001b[0m\u001b[0;34m\u001b[0m\u001b[0;34m\u001b[0m\u001b[0m\n\u001b[0;32m--> 713\u001b[0;31m     ioargs = _get_filepath_or_buffer(\n\u001b[0m\u001b[1;32m    714\u001b[0m         \u001b[0mpath_or_buf\u001b[0m\u001b[0;34m,\u001b[0m\u001b[0;34m\u001b[0m\u001b[0;34m\u001b[0m\u001b[0m\n\u001b[1;32m    715\u001b[0m         \u001b[0mencoding\u001b[0m\u001b[0;34m=\u001b[0m\u001b[0mencoding\u001b[0m\u001b[0;34m,\u001b[0m\u001b[0;34m\u001b[0m\u001b[0;34m\u001b[0m\u001b[0m\n",
            "\u001b[0;32m/usr/local/lib/python3.10/dist-packages/pandas/io/common.py\u001b[0m in \u001b[0;36m_get_filepath_or_buffer\u001b[0;34m(filepath_or_buffer, encoding, compression, mode, storage_options)\u001b[0m\n\u001b[1;32m    361\u001b[0m         \u001b[0;31m# assuming storage_options is to be interpreted as headers\u001b[0m\u001b[0;34m\u001b[0m\u001b[0;34m\u001b[0m\u001b[0m\n\u001b[1;32m    362\u001b[0m         \u001b[0mreq_info\u001b[0m \u001b[0;34m=\u001b[0m \u001b[0murllib\u001b[0m\u001b[0;34m.\u001b[0m\u001b[0mrequest\u001b[0m\u001b[0;34m.\u001b[0m\u001b[0mRequest\u001b[0m\u001b[0;34m(\u001b[0m\u001b[0mfilepath_or_buffer\u001b[0m\u001b[0;34m,\u001b[0m \u001b[0mheaders\u001b[0m\u001b[0;34m=\u001b[0m\u001b[0mstorage_options\u001b[0m\u001b[0;34m)\u001b[0m\u001b[0;34m\u001b[0m\u001b[0;34m\u001b[0m\u001b[0m\n\u001b[0;32m--> 363\u001b[0;31m         \u001b[0;32mwith\u001b[0m \u001b[0murlopen\u001b[0m\u001b[0;34m(\u001b[0m\u001b[0mreq_info\u001b[0m\u001b[0;34m)\u001b[0m \u001b[0;32mas\u001b[0m \u001b[0mreq\u001b[0m\u001b[0;34m:\u001b[0m\u001b[0;34m\u001b[0m\u001b[0;34m\u001b[0m\u001b[0m\n\u001b[0m\u001b[1;32m    364\u001b[0m             \u001b[0mcontent_encoding\u001b[0m \u001b[0;34m=\u001b[0m \u001b[0mreq\u001b[0m\u001b[0;34m.\u001b[0m\u001b[0mheaders\u001b[0m\u001b[0;34m.\u001b[0m\u001b[0mget\u001b[0m\u001b[0;34m(\u001b[0m\u001b[0;34m\"Content-Encoding\"\u001b[0m\u001b[0;34m,\u001b[0m \u001b[0;32mNone\u001b[0m\u001b[0;34m)\u001b[0m\u001b[0;34m\u001b[0m\u001b[0;34m\u001b[0m\u001b[0m\n\u001b[1;32m    365\u001b[0m             \u001b[0;32mif\u001b[0m \u001b[0mcontent_encoding\u001b[0m \u001b[0;34m==\u001b[0m \u001b[0;34m\"gzip\"\u001b[0m\u001b[0;34m:\u001b[0m\u001b[0;34m\u001b[0m\u001b[0;34m\u001b[0m\u001b[0m\n",
            "\u001b[0;32m/usr/local/lib/python3.10/dist-packages/pandas/io/common.py\u001b[0m in \u001b[0;36murlopen\u001b[0;34m(*args, **kwargs)\u001b[0m\n\u001b[1;32m    263\u001b[0m     \u001b[0;32mimport\u001b[0m \u001b[0murllib\u001b[0m\u001b[0;34m.\u001b[0m\u001b[0mrequest\u001b[0m\u001b[0;34m\u001b[0m\u001b[0;34m\u001b[0m\u001b[0m\n\u001b[1;32m    264\u001b[0m \u001b[0;34m\u001b[0m\u001b[0m\n\u001b[0;32m--> 265\u001b[0;31m     \u001b[0;32mreturn\u001b[0m \u001b[0murllib\u001b[0m\u001b[0;34m.\u001b[0m\u001b[0mrequest\u001b[0m\u001b[0;34m.\u001b[0m\u001b[0murlopen\u001b[0m\u001b[0;34m(\u001b[0m\u001b[0;34m*\u001b[0m\u001b[0margs\u001b[0m\u001b[0;34m,\u001b[0m \u001b[0;34m**\u001b[0m\u001b[0mkwargs\u001b[0m\u001b[0;34m)\u001b[0m\u001b[0;34m\u001b[0m\u001b[0;34m\u001b[0m\u001b[0m\n\u001b[0m\u001b[1;32m    266\u001b[0m \u001b[0;34m\u001b[0m\u001b[0m\n\u001b[1;32m    267\u001b[0m \u001b[0;34m\u001b[0m\u001b[0m\n",
            "\u001b[0;32m/usr/lib/python3.10/urllib/request.py\u001b[0m in \u001b[0;36murlopen\u001b[0;34m(url, data, timeout, cafile, capath, cadefault, context)\u001b[0m\n\u001b[1;32m    214\u001b[0m     \u001b[0;32melse\u001b[0m\u001b[0;34m:\u001b[0m\u001b[0;34m\u001b[0m\u001b[0;34m\u001b[0m\u001b[0m\n\u001b[1;32m    215\u001b[0m         \u001b[0mopener\u001b[0m \u001b[0;34m=\u001b[0m \u001b[0m_opener\u001b[0m\u001b[0;34m\u001b[0m\u001b[0;34m\u001b[0m\u001b[0m\n\u001b[0;32m--> 216\u001b[0;31m     \u001b[0;32mreturn\u001b[0m \u001b[0mopener\u001b[0m\u001b[0;34m.\u001b[0m\u001b[0mopen\u001b[0m\u001b[0;34m(\u001b[0m\u001b[0murl\u001b[0m\u001b[0;34m,\u001b[0m \u001b[0mdata\u001b[0m\u001b[0;34m,\u001b[0m \u001b[0mtimeout\u001b[0m\u001b[0;34m)\u001b[0m\u001b[0;34m\u001b[0m\u001b[0;34m\u001b[0m\u001b[0m\n\u001b[0m\u001b[1;32m    217\u001b[0m \u001b[0;34m\u001b[0m\u001b[0m\n\u001b[1;32m    218\u001b[0m \u001b[0;32mdef\u001b[0m \u001b[0minstall_opener\u001b[0m\u001b[0;34m(\u001b[0m\u001b[0mopener\u001b[0m\u001b[0;34m)\u001b[0m\u001b[0;34m:\u001b[0m\u001b[0;34m\u001b[0m\u001b[0;34m\u001b[0m\u001b[0m\n",
            "\u001b[0;32m/usr/lib/python3.10/urllib/request.py\u001b[0m in \u001b[0;36mopen\u001b[0;34m(self, fullurl, data, timeout)\u001b[0m\n\u001b[1;32m    523\u001b[0m         \u001b[0;32mfor\u001b[0m \u001b[0mprocessor\u001b[0m \u001b[0;32min\u001b[0m \u001b[0mself\u001b[0m\u001b[0;34m.\u001b[0m\u001b[0mprocess_response\u001b[0m\u001b[0;34m.\u001b[0m\u001b[0mget\u001b[0m\u001b[0;34m(\u001b[0m\u001b[0mprotocol\u001b[0m\u001b[0;34m,\u001b[0m \u001b[0;34m[\u001b[0m\u001b[0;34m]\u001b[0m\u001b[0;34m)\u001b[0m\u001b[0;34m:\u001b[0m\u001b[0;34m\u001b[0m\u001b[0;34m\u001b[0m\u001b[0m\n\u001b[1;32m    524\u001b[0m             \u001b[0mmeth\u001b[0m \u001b[0;34m=\u001b[0m \u001b[0mgetattr\u001b[0m\u001b[0;34m(\u001b[0m\u001b[0mprocessor\u001b[0m\u001b[0;34m,\u001b[0m \u001b[0mmeth_name\u001b[0m\u001b[0;34m)\u001b[0m\u001b[0;34m\u001b[0m\u001b[0;34m\u001b[0m\u001b[0m\n\u001b[0;32m--> 525\u001b[0;31m             \u001b[0mresponse\u001b[0m \u001b[0;34m=\u001b[0m \u001b[0mmeth\u001b[0m\u001b[0;34m(\u001b[0m\u001b[0mreq\u001b[0m\u001b[0;34m,\u001b[0m \u001b[0mresponse\u001b[0m\u001b[0;34m)\u001b[0m\u001b[0;34m\u001b[0m\u001b[0;34m\u001b[0m\u001b[0m\n\u001b[0m\u001b[1;32m    526\u001b[0m \u001b[0;34m\u001b[0m\u001b[0m\n\u001b[1;32m    527\u001b[0m         \u001b[0;32mreturn\u001b[0m \u001b[0mresponse\u001b[0m\u001b[0;34m\u001b[0m\u001b[0;34m\u001b[0m\u001b[0m\n",
            "\u001b[0;32m/usr/lib/python3.10/urllib/request.py\u001b[0m in \u001b[0;36mhttp_response\u001b[0;34m(self, request, response)\u001b[0m\n\u001b[1;32m    632\u001b[0m         \u001b[0;31m# request was successfully received, understood, and accepted.\u001b[0m\u001b[0;34m\u001b[0m\u001b[0;34m\u001b[0m\u001b[0m\n\u001b[1;32m    633\u001b[0m         \u001b[0;32mif\u001b[0m \u001b[0;32mnot\u001b[0m \u001b[0;34m(\u001b[0m\u001b[0;36m200\u001b[0m \u001b[0;34m<=\u001b[0m \u001b[0mcode\u001b[0m \u001b[0;34m<\u001b[0m \u001b[0;36m300\u001b[0m\u001b[0;34m)\u001b[0m\u001b[0;34m:\u001b[0m\u001b[0;34m\u001b[0m\u001b[0;34m\u001b[0m\u001b[0m\n\u001b[0;32m--> 634\u001b[0;31m             response = self.parent.error(\n\u001b[0m\u001b[1;32m    635\u001b[0m                 'http', request, response, code, msg, hdrs)\n\u001b[1;32m    636\u001b[0m \u001b[0;34m\u001b[0m\u001b[0m\n",
            "\u001b[0;32m/usr/lib/python3.10/urllib/request.py\u001b[0m in \u001b[0;36merror\u001b[0;34m(self, proto, *args)\u001b[0m\n\u001b[1;32m    561\u001b[0m         \u001b[0;32mif\u001b[0m \u001b[0mhttp_err\u001b[0m\u001b[0;34m:\u001b[0m\u001b[0;34m\u001b[0m\u001b[0;34m\u001b[0m\u001b[0m\n\u001b[1;32m    562\u001b[0m             \u001b[0margs\u001b[0m \u001b[0;34m=\u001b[0m \u001b[0;34m(\u001b[0m\u001b[0mdict\u001b[0m\u001b[0;34m,\u001b[0m \u001b[0;34m'default'\u001b[0m\u001b[0;34m,\u001b[0m \u001b[0;34m'http_error_default'\u001b[0m\u001b[0;34m)\u001b[0m \u001b[0;34m+\u001b[0m \u001b[0morig_args\u001b[0m\u001b[0;34m\u001b[0m\u001b[0;34m\u001b[0m\u001b[0m\n\u001b[0;32m--> 563\u001b[0;31m             \u001b[0;32mreturn\u001b[0m \u001b[0mself\u001b[0m\u001b[0;34m.\u001b[0m\u001b[0m_call_chain\u001b[0m\u001b[0;34m(\u001b[0m\u001b[0;34m*\u001b[0m\u001b[0margs\u001b[0m\u001b[0;34m)\u001b[0m\u001b[0;34m\u001b[0m\u001b[0;34m\u001b[0m\u001b[0m\n\u001b[0m\u001b[1;32m    564\u001b[0m \u001b[0;34m\u001b[0m\u001b[0m\n\u001b[1;32m    565\u001b[0m \u001b[0;31m# XXX probably also want an abstract factory that knows when it makes\u001b[0m\u001b[0;34m\u001b[0m\u001b[0;34m\u001b[0m\u001b[0m\n",
            "\u001b[0;32m/usr/lib/python3.10/urllib/request.py\u001b[0m in \u001b[0;36m_call_chain\u001b[0;34m(self, chain, kind, meth_name, *args)\u001b[0m\n\u001b[1;32m    494\u001b[0m         \u001b[0;32mfor\u001b[0m \u001b[0mhandler\u001b[0m \u001b[0;32min\u001b[0m \u001b[0mhandlers\u001b[0m\u001b[0;34m:\u001b[0m\u001b[0;34m\u001b[0m\u001b[0;34m\u001b[0m\u001b[0m\n\u001b[1;32m    495\u001b[0m             \u001b[0mfunc\u001b[0m \u001b[0;34m=\u001b[0m \u001b[0mgetattr\u001b[0m\u001b[0;34m(\u001b[0m\u001b[0mhandler\u001b[0m\u001b[0;34m,\u001b[0m \u001b[0mmeth_name\u001b[0m\u001b[0;34m)\u001b[0m\u001b[0;34m\u001b[0m\u001b[0;34m\u001b[0m\u001b[0m\n\u001b[0;32m--> 496\u001b[0;31m             \u001b[0mresult\u001b[0m \u001b[0;34m=\u001b[0m \u001b[0mfunc\u001b[0m\u001b[0;34m(\u001b[0m\u001b[0;34m*\u001b[0m\u001b[0margs\u001b[0m\u001b[0;34m)\u001b[0m\u001b[0;34m\u001b[0m\u001b[0;34m\u001b[0m\u001b[0m\n\u001b[0m\u001b[1;32m    497\u001b[0m             \u001b[0;32mif\u001b[0m \u001b[0mresult\u001b[0m \u001b[0;32mis\u001b[0m \u001b[0;32mnot\u001b[0m \u001b[0;32mNone\u001b[0m\u001b[0;34m:\u001b[0m\u001b[0;34m\u001b[0m\u001b[0;34m\u001b[0m\u001b[0m\n\u001b[1;32m    498\u001b[0m                 \u001b[0;32mreturn\u001b[0m \u001b[0mresult\u001b[0m\u001b[0;34m\u001b[0m\u001b[0;34m\u001b[0m\u001b[0m\n",
            "\u001b[0;32m/usr/lib/python3.10/urllib/request.py\u001b[0m in \u001b[0;36mhttp_error_default\u001b[0;34m(self, req, fp, code, msg, hdrs)\u001b[0m\n\u001b[1;32m    641\u001b[0m \u001b[0;32mclass\u001b[0m \u001b[0mHTTPDefaultErrorHandler\u001b[0m\u001b[0;34m(\u001b[0m\u001b[0mBaseHandler\u001b[0m\u001b[0;34m)\u001b[0m\u001b[0;34m:\u001b[0m\u001b[0;34m\u001b[0m\u001b[0;34m\u001b[0m\u001b[0m\n\u001b[1;32m    642\u001b[0m     \u001b[0;32mdef\u001b[0m \u001b[0mhttp_error_default\u001b[0m\u001b[0;34m(\u001b[0m\u001b[0mself\u001b[0m\u001b[0;34m,\u001b[0m \u001b[0mreq\u001b[0m\u001b[0;34m,\u001b[0m \u001b[0mfp\u001b[0m\u001b[0;34m,\u001b[0m \u001b[0mcode\u001b[0m\u001b[0;34m,\u001b[0m \u001b[0mmsg\u001b[0m\u001b[0;34m,\u001b[0m \u001b[0mhdrs\u001b[0m\u001b[0;34m)\u001b[0m\u001b[0;34m:\u001b[0m\u001b[0;34m\u001b[0m\u001b[0;34m\u001b[0m\u001b[0m\n\u001b[0;32m--> 643\u001b[0;31m         \u001b[0;32mraise\u001b[0m \u001b[0mHTTPError\u001b[0m\u001b[0;34m(\u001b[0m\u001b[0mreq\u001b[0m\u001b[0;34m.\u001b[0m\u001b[0mfull_url\u001b[0m\u001b[0;34m,\u001b[0m \u001b[0mcode\u001b[0m\u001b[0;34m,\u001b[0m \u001b[0mmsg\u001b[0m\u001b[0;34m,\u001b[0m \u001b[0mhdrs\u001b[0m\u001b[0;34m,\u001b[0m \u001b[0mfp\u001b[0m\u001b[0;34m)\u001b[0m\u001b[0;34m\u001b[0m\u001b[0;34m\u001b[0m\u001b[0m\n\u001b[0m\u001b[1;32m    644\u001b[0m \u001b[0;34m\u001b[0m\u001b[0m\n\u001b[1;32m    645\u001b[0m \u001b[0;32mclass\u001b[0m \u001b[0mHTTPRedirectHandler\u001b[0m\u001b[0;34m(\u001b[0m\u001b[0mBaseHandler\u001b[0m\u001b[0;34m)\u001b[0m\u001b[0;34m:\u001b[0m\u001b[0;34m\u001b[0m\u001b[0;34m\u001b[0m\u001b[0m\n",
            "\u001b[0;31mHTTPError\u001b[0m: HTTP Error 404: Not Found"
          ]
        }
      ],
      "source": [
        "filename = \"https://github.com/debasisdas1976/PERFIN/blob/9cdc860989ac3ac40dd00f7c23593c77e9dfd182/CCLastStatement05-12-2023.csv\"\n",
        "file_path = Path(filename)\n",
        "file_extension = file_path.suffix.lower()[1:]\n",
        "\n",
        "my_df = pd.read_csv(filename)\n"
      ]
    },
    {
      "cell_type": "code",
      "execution_count": 16,
      "metadata": {
        "id": "TocoR-2QD4o8",
        "colab": {
          "base_uri": "https://localhost:8080/",
          "height": 35
        },
        "outputId": "4a2eb4f7-aa0b-4bb3-8440-b8280df0a231"
      },
      "outputs": [
        {
          "output_type": "execute_result",
          "data": {
            "text/plain": [
              "'csv'"
            ],
            "application/vnd.google.colaboratory.intrinsic+json": {
              "type": "string"
            }
          },
          "metadata": {},
          "execution_count": 16
        }
      ],
      "source": [
        " my_df"
      ]
    },
    {
      "cell_type": "markdown",
      "metadata": {
        "id": "4b1ipJLDD4o8"
      },
      "source": [
        "A DataFrame is a data structure that organizes data into a 2-dimensional table of rows and columns, much like a spreadsheet. DataFrames are one of the most common data structures used in modern data analytics because they are a flexible and intuitive way of storing and working with data.\n",
        "\n",
        "Source: [What is a DataFrame](https://www.databricks.com/glossary/what-are-dataframes#:~:text=What%20is%20a%20DataFrame%3F,storing%20and%20working%20with%20data.)"
      ]
    },
    {
      "cell_type": "markdown",
      "metadata": {
        "id": "V-NbPkByD4o8"
      },
      "source": [
        "#### Show few records"
      ]
    },
    {
      "cell_type": "code",
      "execution_count": null,
      "metadata": {
        "id": "mfelUYBQD4o8"
      },
      "outputs": [],
      "source": [
        "icici_df.head( 5 )"
      ]
    },
    {
      "cell_type": "markdown",
      "metadata": {
        "id": "Qbq1pjnjD4o8"
      },
      "source": [
        "#### How many rows and columns?"
      ]
    },
    {
      "cell_type": "code",
      "execution_count": null,
      "metadata": {
        "id": "Q1xn9nMwD4o8"
      },
      "outputs": [],
      "source": [
        "icici_df.shape"
      ]
    },
    {
      "cell_type": "code",
      "execution_count": null,
      "metadata": {
        "id": "QMazxZHiD4o8"
      },
      "outputs": [],
      "source": [
        "icici_df.info()"
      ]
    },
    {
      "cell_type": "markdown",
      "metadata": {
        "id": "GSJS63KPD4o9"
      },
      "source": [
        "### Time Series Data\n",
        "\n",
        "This data is time series based. It makes sense to index the data based on timestamp."
      ]
    },
    {
      "cell_type": "code",
      "execution_count": null,
      "metadata": {
        "id": "ahGUu_U0D4o9"
      },
      "outputs": [],
      "source": [
        "icici_df = icici_df.set_index(['Date'], drop=True)"
      ]
    },
    {
      "cell_type": "code",
      "execution_count": null,
      "metadata": {
        "id": "swh-Ds6FD4o9"
      },
      "outputs": [],
      "source": [
        "icici_df.head(5)"
      ]
    },
    {
      "cell_type": "markdown",
      "metadata": {
        "id": "qp7Baq3JD4o9"
      },
      "source": [
        "#### Sort the data based on ascending order of timestamp"
      ]
    },
    {
      "cell_type": "code",
      "execution_count": null,
      "metadata": {
        "id": "sE9hEiVVD4o9"
      },
      "outputs": [],
      "source": [
        "icici_df.sort_index(ascending = True, inplace=True)"
      ]
    },
    {
      "cell_type": "markdown",
      "metadata": {
        "id": "QApb92_SD4o9"
      },
      "source": [
        "### Slicing and indexing\n",
        "\n",
        "- How to slice, dice, and get subsets of pandas rows and columns."
      ]
    },
    {
      "cell_type": "code",
      "execution_count": null,
      "metadata": {
        "id": "91NJhFcMD4o9"
      },
      "outputs": [],
      "source": [
        "icici_df[0:5]"
      ]
    },
    {
      "cell_type": "code",
      "execution_count": null,
      "metadata": {
        "id": "yHgEalRkD4o9"
      },
      "outputs": [],
      "source": [
        "icici_df[-5:]"
      ]
    },
    {
      "cell_type": "markdown",
      "metadata": {
        "id": "muRXaJPGD4o9"
      },
      "source": [
        "### Select columns"
      ]
    },
    {
      "cell_type": "code",
      "execution_count": null,
      "metadata": {
        "id": "5Pd7FqmMD4o9"
      },
      "outputs": [],
      "source": [
        "icici_df = icici_df[['Close Price', 'Open Price']]"
      ]
    },
    {
      "cell_type": "code",
      "execution_count": null,
      "metadata": {
        "id": "M0TmF3SvD4o9"
      },
      "outputs": [],
      "source": [
        "icici_df[0:5]"
      ]
    },
    {
      "cell_type": "markdown",
      "metadata": {
        "id": "RF5OT6j0D4o9"
      },
      "source": [
        "### Load Yes Bank Data"
      ]
    },
    {
      "cell_type": "code",
      "execution_count": null,
      "metadata": {
        "id": "AXE9c3K7D4o9"
      },
      "outputs": [],
      "source": [
        "# Read the csv file\n",
        "yes_df = pd.read_csv('https://raw.githubusercontent.com/manaranjanp/MLCourseV1/main/Session_1/Yes.csv',\n",
        "                     parse_dates=['Date'] )\n",
        "\n",
        "# Set the time index\n",
        "yes_df = yes_df.set_index(['Date'], drop=True)\n",
        "\n",
        "# Sort the records based on time\n",
        "yes_df.sort_index(ascending = True, inplace=True)\n",
        "\n",
        "# Select only Close and Open Price columns for further analysis\n",
        "yes_df = yes_df[['Close Price', 'Open Price']]\n",
        "\n",
        "# Print Few Records\n",
        "yes_df.head( 5 )"
      ]
    },
    {
      "cell_type": "markdown",
      "metadata": {
        "id": "ZLHk_V9rD4o9"
      },
      "source": [
        "### Calculate daily gains\n",
        "\n",
        "\n",
        "- Calculate daily gain or loss in terms of percentage\n",
        "\n",
        "$$ gain = {(Close Price - Open Price) * 100 \\over Open Price} $$\n"
      ]
    },
    {
      "cell_type": "code",
      "execution_count": null,
      "metadata": {
        "id": "h12XymxWD4o9"
      },
      "outputs": [],
      "source": [
        "icici_df[\"gain\"] = ((icici_df['Close Price'] - icici_df['Open Price']) * 100 /\n",
        "                    icici_df['Open Price'])"
      ]
    },
    {
      "cell_type": "code",
      "execution_count": null,
      "metadata": {
        "id": "BR8eLTa3D4o9"
      },
      "outputs": [],
      "source": [
        "icici_df.head( 5 )"
      ]
    },
    {
      "cell_type": "code",
      "execution_count": null,
      "metadata": {
        "id": "_SMsO5XPD4o9"
      },
      "outputs": [],
      "source": [
        "yes_df[\"gain\"] = ((yes_df['Close Price'] - yes_df['Open Price']) * 100 /\n",
        "                  yes_df['Open Price'])"
      ]
    },
    {
      "cell_type": "code",
      "execution_count": null,
      "metadata": {
        "id": "myAlmOPuD4o9"
      },
      "outputs": [],
      "source": [
        "yes_df[0:5]"
      ]
    },
    {
      "cell_type": "markdown",
      "metadata": {
        "id": "OKlTUtJND4o9"
      },
      "source": [
        "## Plotting Historical Price Trends"
      ]
    },
    {
      "cell_type": "markdown",
      "metadata": {
        "id": "-sIJjK_UD4o9"
      },
      "source": [
        "For plotting the price trends we will plot the close price on time scale.\n",
        "The figure size can be set using figsize\n",
        "\n",
        "**figsize(width, height)**\n",
        "    - Width, height in inches.\n",
        "\n",
        "https://matplotlib.org/stable/api/_as_gen/matplotlib.pyplot.figure.html"
      ]
    },
    {
      "cell_type": "code",
      "execution_count": null,
      "metadata": {
        "id": "m-KjLvnZD4o-"
      },
      "outputs": [],
      "source": [
        "plt.figure(figsize = (12, 6))\n",
        "plt.plot(icici_df['Close Price'], color = 'r');"
      ]
    },
    {
      "cell_type": "code",
      "execution_count": null,
      "metadata": {
        "id": "helzofXUD4pE"
      },
      "outputs": [],
      "source": [
        "plt.figure(figsize = (12, 6))\n",
        "plt.plot(yes_df['Close Price'], color = 'r');"
      ]
    },
    {
      "cell_type": "markdown",
      "metadata": {
        "id": "ktkidqnXD4pE"
      },
      "source": [
        "- From December 2022, the stock prices have fallen and reached the october 2022 levels.\n",
        "\n",
        "- But our focus will be on daily gains here .e.g how much gain or loss if remain invested for a day."
      ]
    },
    {
      "cell_type": "markdown",
      "metadata": {
        "id": "BztY8bcpD4pE"
      },
      "source": [
        "## Plotting Daily Gains\n",
        "\n",
        "How much the stock price changes every day. Is there any pattern in the change of price?"
      ]
    },
    {
      "cell_type": "code",
      "execution_count": null,
      "metadata": {
        "id": "r9kq7aI4D4pE"
      },
      "outputs": [],
      "source": [
        "plt.figure(figsize = (12, 4))\n",
        "plt.plot( icici_df.gain, 'r' );"
      ]
    },
    {
      "cell_type": "markdown",
      "metadata": {
        "id": "53lF7hw4D4pE"
      },
      "source": []
    },
    {
      "cell_type": "code",
      "execution_count": null,
      "metadata": {
        "id": "WQLc0XZJD4pE"
      },
      "outputs": [],
      "source": [
        "plt.figure(figsize = (12, 4))\n",
        "plt.plot( yes_df.gain, 'b' );"
      ]
    },
    {
      "cell_type": "markdown",
      "metadata": {
        "id": "gBpjp6B8D4pE"
      },
      "source": [
        "### Calculating min and max gains"
      ]
    },
    {
      "cell_type": "code",
      "execution_count": null,
      "metadata": {
        "id": "lC45BJF6D4pE"
      },
      "outputs": [],
      "source": [
        "icici_df.gain.min(), icici_df.gain.max()"
      ]
    },
    {
      "cell_type": "code",
      "execution_count": null,
      "metadata": {
        "id": "IN1jQmuqD4pE"
      },
      "outputs": [],
      "source": [
        "yes_df.gain.min(), yes_df.gain.max()"
      ]
    },
    {
      "cell_type": "markdown",
      "metadata": {
        "id": "f42TNQHQD4pE"
      },
      "source": [
        "### What is stock volatility?\n",
        "- Volatility is the rate at which the price of a stock increases or decreases over a particular period.\n",
        "\n",
        "- Higher stock price volatility often means higher risk and helps an investor to estimate the fluctuations that may happen in the future.\n",
        "\n",
        "Source: [Stock Volatility](https://www.fidelity.com.sg/beginners/your-guide-to-stock-investing/understanding-stock-market-volatility-and-how-it-could-help-you#:~:text=Volatility%20is%20the%20standard%20deviation,said%20to%20have%20high%20volatility.)"
      ]
    },
    {
      "cell_type": "markdown",
      "metadata": {
        "id": "uvc3l3amD4pE"
      },
      "source": [
        "### Plotting frequency of various gain values\n",
        "\n",
        "- How many times (in terms of frequency) we are observing different values of gain or loss?\n",
        "    - Frequenecy of -2% to -1% loss\n",
        "    - Frequenecy of -1% to 0% loss\n",
        "    - Frequenecy of 0% to 1% gain\n",
        "    - Frequenecy of 1% to 2% gain\n",
        "    - and so on\n",
        "\n",
        "- Do we observe very high gain or loss very frequently or this is a rare event?\n",
        "\n",
        "- A **histogram** can show the frequency of data items in successive numerical intervals of equal size."
      ]
    },
    {
      "cell_type": "code",
      "execution_count": null,
      "metadata": {
        "id": "5iPpx5x2D4pE"
      },
      "outputs": [],
      "source": [
        "plt.figure(figsize = (12, 4))\n",
        "plt.hist(icici_df.gain);"
      ]
    },
    {
      "cell_type": "markdown",
      "metadata": {
        "id": "BsYbiZ3BD4pE"
      },
      "source": [
        "- The bin intervals are calculated by dividing the difference of max and min value by 10. By default it creates 10 equal sized bins.\n",
        "- We can create our own bins to make the histogram more readable.\n",
        "- Create bins from -4.0 to +4.0 with bin size of 1.0 and show frequencey for each bin"
      ]
    },
    {
      "cell_type": "code",
      "execution_count": null,
      "metadata": {
        "id": "eD9e1Q0zD4pE"
      },
      "outputs": [],
      "source": [
        "plt.figure(figsize = (12, 4))\n",
        "plt.hist(icici_df.gain, bins = range(-4, 4, 1));"
      ]
    },
    {
      "cell_type": "markdown",
      "metadata": {
        "id": "aDjqweuwD4pE"
      },
      "source": [
        "#### Note:\n",
        "\n",
        "- What is the probability of the stock making a gain of (0% to 1%)?\n",
        "- What is the probability of the stock making a loss of (0% to -1%)?"
      ]
    },
    {
      "cell_type": "code",
      "execution_count": null,
      "metadata": {
        "id": "IoRtA74FD4pE"
      },
      "outputs": [],
      "source": [
        "plt.figure(figsize = (12, 6))\n",
        "plt.hist(yes_df.gain, bins = range(-9, 13, 1));\n",
        "plt.xticks(range(-9, 13, 1));"
      ]
    },
    {
      "cell_type": "markdown",
      "metadata": {
        "id": "f3h-v4x2D4pE"
      },
      "source": [
        "### Plotting Distribution Plots\n",
        "\n",
        "In the probability distribution curve, the x-axis indicates the possible values and y-axis indicates the probability of that value occuring."
      ]
    },
    {
      "cell_type": "code",
      "execution_count": null,
      "metadata": {
        "id": "b-89MYFMD4pE"
      },
      "outputs": [],
      "source": [
        "sn.kdeplot(icici_df.gain);"
      ]
    },
    {
      "cell_type": "code",
      "execution_count": null,
      "metadata": {
        "id": "rEJNLGigD4pF"
      },
      "outputs": [],
      "source": [
        "plt.figure(figsize = (12, 5))\n",
        "sn.kdeplot(icici_df.gain, label = 'ICICI Bank' );\n",
        "sn.kdeplot(yes_df.gain, label = 'Yes Bank' );\n",
        "plt.title(\"Volatility of Stocks\")\n",
        "plt.legend();"
      ]
    },
    {
      "cell_type": "markdown",
      "metadata": {
        "id": "8Gu14VlmD4pF"
      },
      "source": [
        "#### Note:\n",
        "   - Yes Bank has higher dispersion than ICICI Bank, which indicates it is higher volatile.\n",
        "   - But can we measure volatility?"
      ]
    },
    {
      "cell_type": "markdown",
      "metadata": {
        "id": "GdVAurzCD4pF"
      },
      "source": [
        "## Probability Distributions\n",
        "\n",
        "- **Probability distribution**  describes the probabilities of occurrence of different possible outcomes.\n",
        "\n",
        "- It describes all the possible values and likelihoods that a random variable can take within a given range. This range will be bounded between the minimum and maximum possible values.\n",
        "\n",
        "- There are several probability distributions:\n",
        "\n",
        "    - Normal Distribution\n",
        "    - Binnomial Distribution\n",
        "    - Exponential Distribution\n",
        "    - Poisson Distribution\n",
        "\n",
        "- Probability plots is the most widely used approach to determine whether your data follow a particular distribution. This process is simple to do visually.\n",
        "\n",
        "[Examples of different distributions](https://statdist.com/)"
      ]
    },
    {
      "cell_type": "markdown",
      "metadata": {
        "id": "pdJ9UhWfD4pF"
      },
      "source": [
        "## What is Normal Distribution?\n",
        "\n",
        "The normal distribution, also known as the Gaussian distribution, is the most important probability distribution in statistics for independent, random variables. Most people recognize its familiar bell-shaped curve in statistical reports.\n",
        "\n",
        "- The normal distribution is a continuous probability distribution that is symmetrical around its mean, most of the observations cluster around the central peak, and the probabilities for values further away from the mean taper off equally in both directions.\n",
        "- Extreme values in both tails of the distribution are similarly unlikely. While the normal distribution is symmetrical, not all symmetrical distributions are normal\n",
        "\n",
        "Source: https://statisticsbyjim.com/basics/normal-distribution/\n",
        "\n",
        "References:\n",
        "\n",
        "https://en.wikipedia.org/wiki/Normal_distribution\n",
        "\n",
        "https://courses.lumenlearning.com/math4libarts/chapter/understanding-normal-distribution/\n",
        "\n",
        "<img src=\"https://github.com/manaranjanp/MLCourseV1/blob/main/Session_1/normal.png?raw=1\" alt=\"Normal Distribution\" width=\"500\"/>\n",
        "\n",
        "Source: https://en.wikipedia.org/wiki/Normal_distribution"
      ]
    },
    {
      "cell_type": "markdown",
      "metadata": {
        "id": "sECffF8-D4pF"
      },
      "source": [
        "### Calculate Mean, Standard Deviation of Daily Returns for ICICI Bank\n",
        "\n",
        "The normal distribution is parameterized by two parameters: the mean of the distribution $\\mu$ and the variance $\\sigma^2$.\n",
        "\n",
        "The sample mean of a normal distribution is given by,\n",
        "\n",
        "$\\bar x = \\frac{1}{n}\\sum_{i=1}^{n}x_{i}$\n",
        "\n",
        "Variance is given by,\n",
        "\n",
        "$\\sigma^2 = \\frac{1}{n}\\sqrt \\sum_{i=1}^{n}(x_{i}-\\bar x)^2$.\n",
        "\n",
        "And standard deviation is square root of variance and is denoted by $\\sigma$.\n",
        "\n",
        "- In investing, standard deviation is used as an indicator of market volatility and thus of risk. The more unpredictable the price action and the wider the range, the greater the risk."
      ]
    },
    {
      "cell_type": "code",
      "execution_count": null,
      "metadata": {
        "id": "jbzTCYcZD4pF"
      },
      "outputs": [],
      "source": [
        "icici_df.gain.mean()"
      ]
    },
    {
      "cell_type": "code",
      "execution_count": null,
      "metadata": {
        "id": "8cU97E4ID4pF"
      },
      "outputs": [],
      "source": [
        "icici_df.gain.std()"
      ]
    },
    {
      "cell_type": "markdown",
      "metadata": {
        "id": "PwaQ7jj0D4pF"
      },
      "source": [
        "### Confidence Interval\n",
        "\n",
        "- Confidence interval is a range of values, bounded above and below the mean value.\n",
        "\n",
        "- It is the probability that a parameter will fall between a set of values for a certain proportion of times.\n",
        "\n",
        "- Most often used confidence intervals are either 90% or 95% or 99%."
      ]
    },
    {
      "cell_type": "code",
      "execution_count": null,
      "metadata": {
        "id": "MNC8ASJHD4pF"
      },
      "outputs": [],
      "source": [
        "from scipy import stats"
      ]
    },
    {
      "cell_type": "code",
      "execution_count": null,
      "metadata": {
        "id": "JF-rf8nsD4pF"
      },
      "outputs": [],
      "source": [
        "icici_ci_90 = stats.norm.interval(0.90,\n",
        "                                  loc=icici_df.gain.mean(),\n",
        "                                  scale=icici_df.gain.std())"
      ]
    },
    {
      "cell_type": "code",
      "execution_count": null,
      "metadata": {
        "id": "VcT3EAfTD4pF"
      },
      "outputs": [],
      "source": [
        "icici_ci_90"
      ]
    },
    {
      "cell_type": "code",
      "execution_count": null,
      "metadata": {
        "id": "Syu-QC6pD4pF"
      },
      "outputs": [],
      "source": [
        "icici_df[icici_df.gain < icici_ci_90[0]]"
      ]
    },
    {
      "cell_type": "markdown",
      "metadata": {
        "id": "BdOvybUDD4pF"
      },
      "source": [
        "### VaR - Value At Risk"
      ]
    },
    {
      "cell_type": "markdown",
      "metadata": {
        "id": "vqu0E95sD4pF"
      },
      "source": [
        "- Value at Risk (VaR) is a statistic that is used in risk management to predict the greatest possible losses over a specific time frame.\n",
        "\n",
        "<img src=\"https://github.com/manaranjanp/MLCourseV1/blob/main/Session_1/var_investopedia.png?raw=1\" alt=\"Normal Distribution\" width=\"500\"/>\n",
        "\n",
        "Source: https://en.wikipedia.org/wiki/Normal_distribution\n",
        "\n",
        "- What is the value at risk if invested one lakh?"
      ]
    },
    {
      "cell_type": "code",
      "execution_count": null,
      "metadata": {
        "id": "y2WtBqMqD4pH"
      },
      "outputs": [],
      "source": [
        "invest_amt = 100000"
      ]
    },
    {
      "cell_type": "code",
      "execution_count": null,
      "metadata": {
        "id": "rvprrmDqD4pH"
      },
      "outputs": [],
      "source": [
        "invest_amt"
      ]
    },
    {
      "cell_type": "code",
      "execution_count": null,
      "metadata": {
        "id": "YFEe2ImdD4pH"
      },
      "outputs": [],
      "source": [
        "icici_ci_90[0]"
      ]
    },
    {
      "cell_type": "code",
      "execution_count": null,
      "metadata": {
        "id": "92fQwLQ7D4pH"
      },
      "outputs": [],
      "source": [
        "icici_var = invest_amt * icici_ci_90[0] / 100"
      ]
    },
    {
      "cell_type": "code",
      "execution_count": null,
      "metadata": {
        "id": "c3b8FQNXD4pH"
      },
      "outputs": [],
      "source": [
        "icici_var"
      ]
    },
    {
      "cell_type": "markdown",
      "metadata": {
        "id": "JKeFyhxPD4pH"
      },
      "source": [
        "#### Note:\n",
        "\n",
        "- Value at risk for 95% CI is 1930.23 rupees, if invested one lakh rupees for day trading in ICICI Bank."
      ]
    },
    {
      "cell_type": "markdown",
      "metadata": {
        "id": "EP-tF0uoD4pH"
      },
      "source": [
        "https://www.moneycontrol.com/news/business/markets/december-21-share-market-live-updates-stock-market-today-december-latest-news-bse-nse-sensex-nifty-covid-coronavirus-9739291.html"
      ]
    },
    {
      "cell_type": "markdown",
      "metadata": {
        "id": "Xts0ZxJHD4pI"
      },
      "source": [
        "### Are there any Outlier Events?\n",
        "\n",
        "- Values that are greater than +3 standard deviations from the mean, or less than -3 standard deviations are considered as outliers."
      ]
    },
    {
      "cell_type": "code",
      "execution_count": null,
      "metadata": {
        "id": "S6oFyDKlD4pI"
      },
      "outputs": [],
      "source": [
        "icici_ci_99_7 = stats.norm.interval(0.997,\n",
        "                                    loc=icici_df.gain.mean(),\n",
        "                                    scale=icici_df.gain.std())"
      ]
    },
    {
      "cell_type": "code",
      "execution_count": null,
      "metadata": {
        "id": "IZ2Xs52qD4pI"
      },
      "outputs": [],
      "source": [
        "icici_ci_99_7"
      ]
    },
    {
      "cell_type": "code",
      "execution_count": null,
      "metadata": {
        "id": "OtjUHb0RD4pI"
      },
      "outputs": [],
      "source": [
        "icici_df[icici_df.gain > icici_ci_99_7[1]]"
      ]
    },
    {
      "cell_type": "markdown",
      "metadata": {
        "id": "R9yxuPTFD4pI"
      },
      "source": [
        "### Yes Bank"
      ]
    },
    {
      "cell_type": "code",
      "execution_count": null,
      "metadata": {
        "id": "8AftS6OaD4pI"
      },
      "outputs": [],
      "source": [
        "yes_df.gain.mean()"
      ]
    },
    {
      "cell_type": "code",
      "execution_count": null,
      "metadata": {
        "id": "GLCfMbboD4pI"
      },
      "outputs": [],
      "source": [
        "yes_df.gain.std()"
      ]
    },
    {
      "cell_type": "code",
      "execution_count": null,
      "metadata": {
        "id": "k2CqR9NED4pI"
      },
      "outputs": [],
      "source": [
        "yes_ci_90 = stats.norm.interval(0.90,\n",
        "                                loc=yes_df.gain.mean(),\n",
        "                                scale=yes_df.gain.std())"
      ]
    },
    {
      "cell_type": "code",
      "execution_count": null,
      "metadata": {
        "id": "y-UmyWnoD4pI"
      },
      "outputs": [],
      "source": [
        "yes_ci_90"
      ]
    },
    {
      "cell_type": "markdown",
      "metadata": {
        "id": "DJg34B95D4pI"
      },
      "source": [
        "- Yes Bank higher risk of higher loss. But it also provides opportunity for higher gains.\n",
        "\n",
        "- Volatility is not always a bad thing, as it can sometimes provide entry points from which investors can take advantage."
      ]
    },
    {
      "cell_type": "markdown",
      "metadata": {
        "id": "H4FWDONjD4pI"
      },
      "source": [
        "## Cumulative Distribution Function"
      ]
    },
    {
      "cell_type": "code",
      "execution_count": null,
      "metadata": {
        "id": "VPmQHyN-D4pI"
      },
      "outputs": [],
      "source": [
        "plt.figure(figsize = (12, 5))\n",
        "sn.kdeplot(yes_df.gain, label = 'Yes Bank' );\n",
        "plt.legend();"
      ]
    },
    {
      "cell_type": "markdown",
      "metadata": {
        "id": "aRSE3HLpD4pI"
      },
      "source": [
        "#### CDF - Cummulative Distribution Function\n",
        "\n",
        "- CDF is the probability that a random variable (let X) will take a value less than or equal to the random variable (X).\n",
        "\n",
        "- For example: The probability that the stock will make a loss of -3% or more is the sum of all probabilities of the stocks making -3.0%, -3.1%, -3.2% and so on until highest loss it has encountered historically.\n",
        "\n",
        "$$\\int_{-\\infty}^{-3} p(x) \\; dx  $$\n",
        "\n",
        "<img src=\"https://github.com/manaranjanp/MLCourseV1/blob/main/Session_1/cdf.png?raw=1\" alt=\"Cummulative Distribution Function\" width=\"400\"/>"
      ]
    },
    {
      "cell_type": "markdown",
      "metadata": {
        "id": "bgQCvDt7D4pI"
      },
      "source": [
        "## What is the probability that the stock will make a loss of 3% or more?"
      ]
    },
    {
      "cell_type": "markdown",
      "metadata": {
        "id": "tm8NXWAjD4pI"
      },
      "source": [
        "### ICICI Bank - probability of a loss of 3% or more"
      ]
    },
    {
      "cell_type": "code",
      "execution_count": null,
      "metadata": {
        "id": "_4vCBr1DD4pI"
      },
      "outputs": [],
      "source": [
        "stats.norm.cdf( -3.0,\n",
        "               loc=icici_df.gain.mean(),\n",
        "               scale=icici_df.gain.std())"
      ]
    },
    {
      "cell_type": "markdown",
      "metadata": {
        "id": "zgZoJTcxD4pI"
      },
      "source": [
        "### Yes Bank - probability of a loss of 3% or more"
      ]
    },
    {
      "cell_type": "code",
      "execution_count": null,
      "metadata": {
        "id": "HHxy5Ii-D4pI"
      },
      "outputs": [],
      "source": [
        "stats.norm.cdf( -2.0,\n",
        "               loc=yes_df.gain.mean(),\n",
        "               scale=yes_df.gain.std())"
      ]
    },
    {
      "cell_type": "markdown",
      "metadata": {
        "id": "NICaU2-lD4pI"
      },
      "source": [
        "#### Note:\n",
        "\n",
        "- Yes Bank higher probablity compared to ICICI Bank."
      ]
    },
    {
      "cell_type": "markdown",
      "metadata": {
        "id": "FBUT6UOyD4pI"
      },
      "source": [
        "## What is the probability that the stock will make a gain of 3% or more?"
      ]
    },
    {
      "cell_type": "markdown",
      "metadata": {
        "id": "22hHoe5GD4pI"
      },
      "source": [
        "### ICICI Bank - probability of a gain of 3%"
      ]
    },
    {
      "cell_type": "code",
      "execution_count": null,
      "metadata": {
        "id": "PiPui_qGD4pI"
      },
      "outputs": [],
      "source": [
        "1 - stats.norm.cdf(3.0,\n",
        "                   loc=icici_df.gain.mean(),\n",
        "                   scale=icici_df.gain.std())"
      ]
    },
    {
      "cell_type": "markdown",
      "metadata": {
        "id": "ahDgPwCuD4pJ"
      },
      "source": [
        "### Yes Bank - probability of a gain of 3%"
      ]
    },
    {
      "cell_type": "code",
      "execution_count": null,
      "metadata": {
        "id": "oM4VlZ2OD4pJ"
      },
      "outputs": [],
      "source": [
        "1 - stats.norm.cdf(3.0,\n",
        "                   loc=yes_df.gain.mean(),\n",
        "                   scale=yes_df.gain.std())"
      ]
    },
    {
      "cell_type": "markdown",
      "metadata": {
        "id": "SjlxLdMlD4pJ"
      },
      "source": [
        "#### Note:\n",
        "- Yes Bank has 16% probability of making a gain of 3% or more."
      ]
    },
    {
      "cell_type": "markdown",
      "metadata": {
        "id": "Y7GKpn69D4pJ"
      },
      "source": [
        "## Ex1: Participant Exercise\n",
        "\n",
        "1. Download the daily stock price of four or five randomly selected stocks. The stocks can belong to one sector.\n",
        "\n",
        "2. Find out the value at risk (Var) of each stock at 95%.\n",
        "\n",
        "3. Plot the daily gain or loss of all the stocks in one plot.\n",
        "\n",
        "4. Find out the probability of making 4% gain in each of the stock."
      ]
    }
  ],
  "metadata": {
    "anaconda-cloud": {},
    "kernelspec": {
      "display_name": "Python 3",
      "language": "python",
      "name": "python3"
    },
    "language_info": {
      "codemirror_mode": {
        "name": "ipython",
        "version": 3
      },
      "file_extension": ".py",
      "mimetype": "text/x-python",
      "name": "python",
      "nbconvert_exporter": "python",
      "pygments_lexer": "ipython3",
      "version": "3.8.3"
    },
    "colab": {
      "provenance": [],
      "toc_visible": true,
      "include_colab_link": true
    }
  },
  "nbformat": 4,
  "nbformat_minor": 0
}